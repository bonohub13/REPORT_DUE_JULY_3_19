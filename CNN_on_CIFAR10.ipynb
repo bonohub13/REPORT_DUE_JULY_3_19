{
 "cells": [
  {
   "cell_type": "markdown",
   "metadata": {},
   "source": [
    "### Deep CNN on the CIFAR10 datasets (due: July 3)"
   ]
  },
  {
   "cell_type": "code",
   "execution_count": 1,
   "metadata": {
    "scrolled": true
   },
   "outputs": [
    {
     "name": "stderr",
     "output_type": "stream",
     "text": [
      "Using TensorFlow backend.\n"
     ]
    }
   ],
   "source": [
    "import keras, os\n",
    "from keras.datasets import cifar10\n",
    "from keras.preprocessing.image import ImageDataGenerator\n",
    "from keras.models import Sequential\n",
    "from keras.layers import Dense, Dropout, Activation, Flatten, Conv2D, MaxPooling2D"
   ]
  },
  {
   "cell_type": "code",
   "execution_count": 2,
   "metadata": {},
   "outputs": [],
   "source": [
    "batch_size = 32\n",
    "num_classes = 10\n",
    "epochs = 100\n",
    "data_augumentation = True\n",
    "num_predictions = 20\n",
    "save_dir = os.path.join(os.getcwd(), 'saved_models')\n",
    "model_name = 'keras_cifar10_trained_model.h5'"
   ]
  },
  {
   "cell_type": "code",
   "execution_count": 3,
   "metadata": {},
   "outputs": [],
   "source": [
    "# (X, Y training data), (X, Y testing data)\n",
    "(X_train, Y_train), (X_test, Y_test) = cifar10.load_data()"
   ]
  },
  {
   "cell_type": "code",
   "execution_count": 4,
   "metadata": {},
   "outputs": [
    {
     "name": "stdout",
     "output_type": "stream",
     "text": [
      "(X, Y)_train_shape: (50000, 32, 32, 3) | (50000, 1)\n",
      "(X, Y)_test_shape : (10000, 32, 32, 3) | (10000, 1)\n"
     ]
    }
   ],
   "source": [
    "# (train(test)_samples, ...)\n",
    "print('(X, Y)_train_shape:', X_train.shape, '|', Y_train.shape)\n",
    "print('(X, Y)_test_shape :', X_test.shape, '|', Y_test.shape)"
   ]
  },
  {
   "cell_type": "code",
   "execution_count": 5,
   "metadata": {},
   "outputs": [],
   "source": [
    "# Convert class vectors to binary class matrixes\n",
    "Y_train = keras.utils.to_categorical(Y_train, num_classes)\n",
    "Y_test = keras.utils.to_categorical(Y_test, num_classes)"
   ]
  },
  {
   "cell_type": "code",
   "execution_count": 6,
   "metadata": {},
   "outputs": [
    {
     "name": "stderr",
     "output_type": "stream",
     "text": [
      "WARNING: Logging before flag parsing goes to stderr.\n",
      "W0627 11:57:31.058825 140370159314752 deprecation_wrapper.py:119] From /home/kensuke/.local/lib/python3.6/site-packages/keras/backend/tensorflow_backend.py:74: The name tf.get_default_graph is deprecated. Please use tf.compat.v1.get_default_graph instead.\n",
      "\n",
      "W0627 11:57:31.066466 140370159314752 deprecation_wrapper.py:119] From /home/kensuke/.local/lib/python3.6/site-packages/keras/backend/tensorflow_backend.py:517: The name tf.placeholder is deprecated. Please use tf.compat.v1.placeholder instead.\n",
      "\n",
      "W0627 11:57:31.067697 140370159314752 deprecation_wrapper.py:119] From /home/kensuke/.local/lib/python3.6/site-packages/keras/backend/tensorflow_backend.py:4138: The name tf.random_uniform is deprecated. Please use tf.random.uniform instead.\n",
      "\n",
      "W0627 11:57:31.082498 140370159314752 deprecation_wrapper.py:119] From /home/kensuke/.local/lib/python3.6/site-packages/keras/backend/tensorflow_backend.py:3976: The name tf.nn.max_pool is deprecated. Please use tf.nn.max_pool2d instead.\n",
      "\n",
      "W0627 11:57:31.083770 140370159314752 deprecation_wrapper.py:119] From /home/kensuke/.local/lib/python3.6/site-packages/keras/backend/tensorflow_backend.py:133: The name tf.placeholder_with_default is deprecated. Please use tf.compat.v1.placeholder_with_default instead.\n",
      "\n",
      "W0627 11:57:31.088718 140370159314752 deprecation.py:506] From /home/kensuke/.local/lib/python3.6/site-packages/keras/backend/tensorflow_backend.py:3445: calling dropout (from tensorflow.python.ops.nn_ops) with keep_prob is deprecated and will be removed in a future version.\n",
      "Instructions for updating:\n",
      "Please use `rate` instead of `keep_prob`. Rate should be set to `rate = 1 - keep_prob`.\n"
     ]
    }
   ],
   "source": [
    "model = Sequential()\n",
    "\n",
    "# inner layer (if \"layers\" is 0, then this is the input layer)\n",
    "for layers in range(2):\n",
    "    model.add(Conv2D(32, (3, 3), \n",
    "                     padding='same', \n",
    "                     input_shape=X_train.shape[1:]))\n",
    "    model.add(Activation('relu'))\n",
    "    model.add(Conv2D(32, (3, 3)))\n",
    "    model.add(Activation('relu'))\n",
    "    model.add(MaxPooling2D(pool_size=(2, 2)))\n",
    "    model.add(Dropout(0.25))\n",
    "\n",
    "# output layer\n",
    "model.add(Flatten())\n",
    "model.add(Dense(512))\n",
    "model.add(Activation('relu'))\n",
    "model.add(Dropout(0.5))\n",
    "model.add(Dense(num_classes))\n",
    "model.add(Activation('softmax'))"
   ]
  },
  {
   "cell_type": "code",
   "execution_count": 7,
   "metadata": {},
   "outputs": [
    {
     "name": "stderr",
     "output_type": "stream",
     "text": [
      "W0627 11:57:31.153989 140370159314752 deprecation_wrapper.py:119] From /home/kensuke/.local/lib/python3.6/site-packages/keras/optimizers.py:790: The name tf.train.Optimizer is deprecated. Please use tf.compat.v1.train.Optimizer instead.\n",
      "\n",
      "W0627 11:57:31.157753 140370159314752 deprecation_wrapper.py:119] From /home/kensuke/.local/lib/python3.6/site-packages/keras/backend/tensorflow_backend.py:3295: The name tf.log is deprecated. Please use tf.math.log instead.\n",
      "\n"
     ]
    }
   ],
   "source": [
    "# initiate RMSprop optimizer\n",
    "optimizer = keras.optimizers.rmsprop(lr=0.0001, decay=0.00001)\n",
    "\n",
    "# train the model with RMSprop\n",
    "model.compile(loss='categorical_crossentropy',\n",
    "             optimizer=optimizer,\n",
    "             metrics=['accuracy'])"
   ]
  },
  {
   "cell_type": "code",
   "execution_count": 8,
   "metadata": {},
   "outputs": [],
   "source": [
    "X_train = X_train.astype('float32')\n",
    "X_test = X_test.astype('float32')\n",
    "X_train /= 255\n",
    "X_test /= 255"
   ]
  },
  {
   "cell_type": "code",
   "execution_count": 9,
   "metadata": {},
   "outputs": [
    {
     "name": "stdout",
     "output_type": "stream",
     "text": [
      "=== Real-time data_augmentation ===\n"
     ]
    },
    {
     "name": "stderr",
     "output_type": "stream",
     "text": [
      "W0627 11:57:31.629836 140370159314752 deprecation.py:323] From /home/kensuke/.local/lib/python3.6/site-packages/tensorflow/python/ops/math_grad.py:1250: add_dispatch_support.<locals>.wrapper (from tensorflow.python.ops.array_ops) is deprecated and will be removed in a future version.\n",
      "Instructions for updating:\n",
      "Use tf.where in 2.0, which has the same broadcast rule as np.where\n"
     ]
    },
    {
     "name": "stdout",
     "output_type": "stream",
     "text": [
      "Epoch 1/100\n",
      "1563/1563 [==============================] - 36s 23ms/step - loss: 1.9119 - acc: 0.2902 - val_loss: 1.6078 - val_acc: 0.4208\n",
      "Epoch 2/100\n",
      "1563/1563 [==============================] - 36s 23ms/step - loss: 1.6143 - acc: 0.4083 - val_loss: 1.4317 - val_acc: 0.4798\n",
      "Epoch 3/100\n",
      "1563/1563 [==============================] - 36s 23ms/step - loss: 1.5131 - acc: 0.4478 - val_loss: 1.4509 - val_acc: 0.4689\n",
      "Epoch 4/100\n",
      "1563/1563 [==============================] - 36s 23ms/step - loss: 1.4470 - acc: 0.4775 - val_loss: 1.3073 - val_acc: 0.5220\n",
      "Epoch 5/100\n",
      "1563/1563 [==============================] - 36s 23ms/step - loss: 1.3908 - acc: 0.4979 - val_loss: 1.2505 - val_acc: 0.5464\n",
      "Epoch 6/100\n",
      "1563/1563 [==============================] - 36s 23ms/step - loss: 1.3446 - acc: 0.5170 - val_loss: 1.2140 - val_acc: 0.5659\n",
      "Epoch 7/100\n",
      "1563/1563 [==============================] - 36s 23ms/step - loss: 1.3045 - acc: 0.5329 - val_loss: 1.1585 - val_acc: 0.5838\n",
      "Epoch 8/100\n",
      "1563/1563 [==============================] - 36s 23ms/step - loss: 1.2690 - acc: 0.5462 - val_loss: 1.1776 - val_acc: 0.5818\n",
      "Epoch 9/100\n",
      "1563/1563 [==============================] - 36s 23ms/step - loss: 1.2426 - acc: 0.5549 - val_loss: 1.2612 - val_acc: 0.5593\n",
      "Epoch 10/100\n",
      "1563/1563 [==============================] - 36s 23ms/step - loss: 1.2145 - acc: 0.5670 - val_loss: 1.2538 - val_acc: 0.5587\n",
      "Epoch 11/100\n",
      "1563/1563 [==============================] - 36s 23ms/step - loss: 1.1921 - acc: 0.5744 - val_loss: 1.0752 - val_acc: 0.6184\n",
      "Epoch 12/100\n",
      "1563/1563 [==============================] - 36s 23ms/step - loss: 1.1705 - acc: 0.5855 - val_loss: 1.1102 - val_acc: 0.6062\n",
      "Epoch 13/100\n",
      "1563/1563 [==============================] - 36s 23ms/step - loss: 1.1491 - acc: 0.5923 - val_loss: 1.0462 - val_acc: 0.6307\n",
      "Epoch 14/100\n",
      "1563/1563 [==============================] - 36s 23ms/step - loss: 1.1387 - acc: 0.5952 - val_loss: 1.0057 - val_acc: 0.6429\n",
      "Epoch 15/100\n",
      "1563/1563 [==============================] - 36s 23ms/step - loss: 1.1160 - acc: 0.6029 - val_loss: 1.0562 - val_acc: 0.6287\n",
      "Epoch 16/100\n",
      "1563/1563 [==============================] - 36s 23ms/step - loss: 1.1020 - acc: 0.6095 - val_loss: 1.1461 - val_acc: 0.6024\n",
      "Epoch 17/100\n",
      "1563/1563 [==============================] - 36s 23ms/step - loss: 1.0818 - acc: 0.6160 - val_loss: 0.9642 - val_acc: 0.6641\n",
      "Epoch 18/100\n",
      "1563/1563 [==============================] - 36s 23ms/step - loss: 1.0689 - acc: 0.6198 - val_loss: 1.0452 - val_acc: 0.6427\n",
      "Epoch 19/100\n",
      "1563/1563 [==============================] - 36s 23ms/step - loss: 1.0654 - acc: 0.6204 - val_loss: 1.0029 - val_acc: 0.6483\n",
      "Epoch 20/100\n",
      "1563/1563 [==============================] - 36s 23ms/step - loss: 1.0542 - acc: 0.6265 - val_loss: 0.9609 - val_acc: 0.6652\n",
      "Epoch 21/100\n",
      "1563/1563 [==============================] - 36s 23ms/step - loss: 1.0449 - acc: 0.6287 - val_loss: 1.0548 - val_acc: 0.6331\n",
      "Epoch 22/100\n",
      "1563/1563 [==============================] - 36s 23ms/step - loss: 1.0329 - acc: 0.6356 - val_loss: 0.9240 - val_acc: 0.6776\n",
      "Epoch 23/100\n",
      "1563/1563 [==============================] - 36s 23ms/step - loss: 1.0230 - acc: 0.6391 - val_loss: 0.9059 - val_acc: 0.6839\n",
      "Epoch 24/100\n",
      "1563/1563 [==============================] - 36s 23ms/step - loss: 1.0186 - acc: 0.6391 - val_loss: 0.9326 - val_acc: 0.6743\n",
      "Epoch 25/100\n",
      "1563/1563 [==============================] - 36s 23ms/step - loss: 1.0129 - acc: 0.6426 - val_loss: 0.8862 - val_acc: 0.6909\n",
      "Epoch 26/100\n",
      "1563/1563 [==============================] - 36s 23ms/step - loss: 1.0032 - acc: 0.6471 - val_loss: 0.8980 - val_acc: 0.6861\n",
      "Epoch 27/100\n",
      "1563/1563 [==============================] - 36s 23ms/step - loss: 1.0001 - acc: 0.6460 - val_loss: 0.9276 - val_acc: 0.6759\n",
      "Epoch 28/100\n",
      "1563/1563 [==============================] - 36s 23ms/step - loss: 0.9905 - acc: 0.6531 - val_loss: 0.9233 - val_acc: 0.6822\n",
      "Epoch 29/100\n",
      "1563/1563 [==============================] - 36s 23ms/step - loss: 0.9826 - acc: 0.6546 - val_loss: 0.9452 - val_acc: 0.6734\n",
      "Epoch 30/100\n",
      "1563/1563 [==============================] - 36s 23ms/step - loss: 0.9743 - acc: 0.6568 - val_loss: 0.8954 - val_acc: 0.6854\n",
      "Epoch 31/100\n",
      "1563/1563 [==============================] - 36s 23ms/step - loss: 0.9716 - acc: 0.6578 - val_loss: 0.9228 - val_acc: 0.6779\n",
      "Epoch 32/100\n",
      "1563/1563 [==============================] - 36s 23ms/step - loss: 0.9682 - acc: 0.6594 - val_loss: 0.8427 - val_acc: 0.7090\n",
      "Epoch 33/100\n",
      "1563/1563 [==============================] - 36s 23ms/step - loss: 0.9659 - acc: 0.6596 - val_loss: 0.9741 - val_acc: 0.6621\n",
      "Epoch 34/100\n",
      "1563/1563 [==============================] - 36s 23ms/step - loss: 0.9593 - acc: 0.6631 - val_loss: 0.9358 - val_acc: 0.6721\n",
      "Epoch 35/100\n",
      "1563/1563 [==============================] - 36s 23ms/step - loss: 0.9555 - acc: 0.6646 - val_loss: 0.9319 - val_acc: 0.6738\n",
      "Epoch 36/100\n",
      "1563/1563 [==============================] - 36s 23ms/step - loss: 0.9466 - acc: 0.6687 - val_loss: 0.8321 - val_acc: 0.7110\n",
      "Epoch 37/100\n",
      "1563/1563 [==============================] - 36s 23ms/step - loss: 0.9414 - acc: 0.6698 - val_loss: 0.8576 - val_acc: 0.6977\n",
      "Epoch 38/100\n",
      "1563/1563 [==============================] - 36s 23ms/step - loss: 0.9425 - acc: 0.6703 - val_loss: 0.8417 - val_acc: 0.7067\n",
      "Epoch 39/100\n",
      "1563/1563 [==============================] - 36s 23ms/step - loss: 0.9333 - acc: 0.6748 - val_loss: 0.8613 - val_acc: 0.6964\n",
      "Epoch 40/100\n",
      "1563/1563 [==============================] - 36s 23ms/step - loss: 0.9349 - acc: 0.6743 - val_loss: 0.8590 - val_acc: 0.7011\n",
      "Epoch 41/100\n",
      "1563/1563 [==============================] - 36s 23ms/step - loss: 0.9255 - acc: 0.6765 - val_loss: 0.7988 - val_acc: 0.7239\n",
      "Epoch 42/100\n",
      "1563/1563 [==============================] - 36s 23ms/step - loss: 0.9233 - acc: 0.6783 - val_loss: 0.8868 - val_acc: 0.6924\n",
      "Epoch 43/100\n",
      "1563/1563 [==============================] - 36s 23ms/step - loss: 0.9237 - acc: 0.6763 - val_loss: 0.8679 - val_acc: 0.6970\n",
      "Epoch 44/100\n",
      "1563/1563 [==============================] - 36s 23ms/step - loss: 0.9227 - acc: 0.6788 - val_loss: 0.8585 - val_acc: 0.7015\n",
      "Epoch 45/100\n",
      "1563/1563 [==============================] - 36s 23ms/step - loss: 0.9184 - acc: 0.6785 - val_loss: 0.8317 - val_acc: 0.7148\n",
      "Epoch 46/100\n",
      "1563/1563 [==============================] - 36s 23ms/step - loss: 0.9203 - acc: 0.6789 - val_loss: 0.8204 - val_acc: 0.7170\n",
      "Epoch 47/100\n",
      "1563/1563 [==============================] - 36s 23ms/step - loss: 0.9134 - acc: 0.6825 - val_loss: 0.8134 - val_acc: 0.7192\n",
      "Epoch 48/100\n",
      "1563/1563 [==============================] - 36s 23ms/step - loss: 0.9089 - acc: 0.6836 - val_loss: 0.8596 - val_acc: 0.7021\n",
      "Epoch 49/100\n",
      "1563/1563 [==============================] - 36s 23ms/step - loss: 0.9146 - acc: 0.6813 - val_loss: 0.7992 - val_acc: 0.7280\n",
      "Epoch 50/100\n",
      "1563/1563 [==============================] - 36s 23ms/step - loss: 0.9044 - acc: 0.6841 - val_loss: 0.8344 - val_acc: 0.7153\n",
      "Epoch 51/100\n",
      "1563/1563 [==============================] - 36s 23ms/step - loss: 0.9014 - acc: 0.6864 - val_loss: 0.8432 - val_acc: 0.7090\n",
      "Epoch 52/100\n",
      "1563/1563 [==============================] - 36s 23ms/step - loss: 0.9012 - acc: 0.6862 - val_loss: 0.8138 - val_acc: 0.7210\n",
      "Epoch 53/100\n",
      "1563/1563 [==============================] - 36s 23ms/step - loss: 0.9037 - acc: 0.6874 - val_loss: 0.8247 - val_acc: 0.7203\n",
      "Epoch 54/100\n",
      "1563/1563 [==============================] - 36s 23ms/step - loss: 0.8995 - acc: 0.6893 - val_loss: 0.8062 - val_acc: 0.7213\n",
      "Epoch 55/100\n",
      "1563/1563 [==============================] - 36s 23ms/step - loss: 0.8957 - acc: 0.6888 - val_loss: 0.8180 - val_acc: 0.7240\n",
      "Epoch 56/100\n",
      "1563/1563 [==============================] - 36s 23ms/step - loss: 0.8958 - acc: 0.6887 - val_loss: 0.8029 - val_acc: 0.7244\n",
      "Epoch 57/100\n",
      "1563/1563 [==============================] - 36s 23ms/step - loss: 0.8926 - acc: 0.6886 - val_loss: 0.8032 - val_acc: 0.7232\n",
      "Epoch 58/100\n",
      "1563/1563 [==============================] - 36s 23ms/step - loss: 0.8926 - acc: 0.6900 - val_loss: 0.7876 - val_acc: 0.7318\n",
      "Epoch 59/100\n",
      "1563/1563 [==============================] - 36s 23ms/step - loss: 0.8842 - acc: 0.6928 - val_loss: 0.8646 - val_acc: 0.6983\n",
      "Epoch 60/100\n"
     ]
    },
    {
     "name": "stdout",
     "output_type": "stream",
     "text": [
      "1563/1563 [==============================] - 36s 23ms/step - loss: 0.8850 - acc: 0.6930 - val_loss: 0.7973 - val_acc: 0.7277\n",
      "Epoch 61/100\n",
      "1563/1563 [==============================] - 35s 23ms/step - loss: 0.8839 - acc: 0.6960 - val_loss: 0.8135 - val_acc: 0.7206\n",
      "Epoch 62/100\n",
      "1563/1563 [==============================] - 35s 23ms/step - loss: 0.8851 - acc: 0.6922 - val_loss: 0.8146 - val_acc: 0.7238\n",
      "Epoch 63/100\n",
      "1563/1563 [==============================] - 35s 23ms/step - loss: 0.8829 - acc: 0.6938 - val_loss: 0.8015 - val_acc: 0.7274\n",
      "Epoch 64/100\n",
      "1563/1563 [==============================] - 35s 23ms/step - loss: 0.8839 - acc: 0.6941 - val_loss: 0.8371 - val_acc: 0.7238\n",
      "Epoch 65/100\n",
      "1563/1563 [==============================] - 36s 23ms/step - loss: 0.8851 - acc: 0.6903 - val_loss: 0.8371 - val_acc: 0.7212\n",
      "Epoch 66/100\n",
      "1563/1563 [==============================] - 36s 23ms/step - loss: 0.8787 - acc: 0.6965 - val_loss: 0.8058 - val_acc: 0.7251\n",
      "Epoch 67/100\n",
      "1563/1563 [==============================] - 35s 23ms/step - loss: 0.8767 - acc: 0.6968 - val_loss: 0.7550 - val_acc: 0.7437\n",
      "Epoch 68/100\n",
      "1563/1563 [==============================] - 36s 23ms/step - loss: 0.8736 - acc: 0.6957 - val_loss: 0.8210 - val_acc: 0.7241\n",
      "Epoch 69/100\n",
      "1563/1563 [==============================] - 35s 23ms/step - loss: 0.8781 - acc: 0.6944 - val_loss: 0.7928 - val_acc: 0.7306\n",
      "Epoch 70/100\n",
      "1563/1563 [==============================] - 36s 23ms/step - loss: 0.8743 - acc: 0.6973 - val_loss: 0.7971 - val_acc: 0.7363\n",
      "Epoch 71/100\n",
      "1563/1563 [==============================] - 35s 23ms/step - loss: 0.8752 - acc: 0.6977 - val_loss: 0.7657 - val_acc: 0.7394\n",
      "Epoch 72/100\n",
      "1563/1563 [==============================] - 36s 23ms/step - loss: 0.8716 - acc: 0.6980 - val_loss: 0.8375 - val_acc: 0.7173\n",
      "Epoch 73/100\n",
      "1563/1563 [==============================] - 36s 23ms/step - loss: 0.8649 - acc: 0.7021 - val_loss: 0.8363 - val_acc: 0.7155\n",
      "Epoch 74/100\n",
      "1563/1563 [==============================] - 36s 23ms/step - loss: 0.8695 - acc: 0.6990 - val_loss: 0.7980 - val_acc: 0.7298\n",
      "Epoch 75/100\n",
      "1563/1563 [==============================] - 36s 23ms/step - loss: 0.8731 - acc: 0.6996 - val_loss: 0.7833 - val_acc: 0.7351\n",
      "Epoch 76/100\n",
      "1563/1563 [==============================] - 35s 23ms/step - loss: 0.8654 - acc: 0.7004 - val_loss: 0.8102 - val_acc: 0.7239\n",
      "Epoch 77/100\n",
      "1563/1563 [==============================] - 36s 23ms/step - loss: 0.8640 - acc: 0.7014 - val_loss: 0.7678 - val_acc: 0.7391\n",
      "Epoch 78/100\n",
      "1563/1563 [==============================] - 36s 23ms/step - loss: 0.8685 - acc: 0.6996 - val_loss: 0.7899 - val_acc: 0.7282\n",
      "Epoch 79/100\n",
      "1563/1563 [==============================] - 36s 23ms/step - loss: 0.8602 - acc: 0.7035 - val_loss: 0.8195 - val_acc: 0.7237\n",
      "Epoch 80/100\n",
      "1563/1563 [==============================] - 35s 23ms/step - loss: 0.8671 - acc: 0.7017 - val_loss: 0.7986 - val_acc: 0.7262\n",
      "Epoch 81/100\n",
      "1563/1563 [==============================] - 35s 23ms/step - loss: 0.8647 - acc: 0.7015 - val_loss: 0.7545 - val_acc: 0.7423\n",
      "Epoch 82/100\n",
      "1563/1563 [==============================] - 36s 23ms/step - loss: 0.8591 - acc: 0.7027 - val_loss: 0.7786 - val_acc: 0.7353\n",
      "Epoch 83/100\n",
      "1563/1563 [==============================] - 36s 23ms/step - loss: 0.8593 - acc: 0.7048 - val_loss: 0.7375 - val_acc: 0.7526\n",
      "Epoch 84/100\n",
      "1563/1563 [==============================] - 36s 23ms/step - loss: 0.8588 - acc: 0.7042 - val_loss: 0.7696 - val_acc: 0.7419\n",
      "Epoch 85/100\n",
      "1563/1563 [==============================] - 36s 23ms/step - loss: 0.8588 - acc: 0.7037 - val_loss: 0.8211 - val_acc: 0.7234\n",
      "Epoch 86/100\n",
      "1563/1563 [==============================] - 36s 23ms/step - loss: 0.8560 - acc: 0.7054 - val_loss: 0.8041 - val_acc: 0.7264\n",
      "Epoch 87/100\n",
      "1563/1563 [==============================] - 36s 23ms/step - loss: 0.8550 - acc: 0.7078 - val_loss: 0.7601 - val_acc: 0.7453\n",
      "Epoch 88/100\n",
      "1563/1563 [==============================] - 36s 23ms/step - loss: 0.8584 - acc: 0.7035 - val_loss: 0.7704 - val_acc: 0.7360\n",
      "Epoch 89/100\n",
      "1563/1563 [==============================] - 36s 23ms/step - loss: 0.8537 - acc: 0.7051 - val_loss: 0.7837 - val_acc: 0.7364\n",
      "Epoch 90/100\n",
      "1563/1563 [==============================] - 36s 23ms/step - loss: 0.8568 - acc: 0.7049 - val_loss: 0.7818 - val_acc: 0.7345\n",
      "Epoch 91/100\n",
      "1563/1563 [==============================] - 36s 23ms/step - loss: 0.8503 - acc: 0.7063 - val_loss: 0.7796 - val_acc: 0.7344\n",
      "Epoch 92/100\n",
      "1563/1563 [==============================] - 36s 23ms/step - loss: 0.8541 - acc: 0.7075 - val_loss: 0.7516 - val_acc: 0.7479\n",
      "Epoch 93/100\n",
      "1563/1563 [==============================] - 36s 23ms/step - loss: 0.8504 - acc: 0.7079 - val_loss: 0.7773 - val_acc: 0.7388\n",
      "Epoch 94/100\n",
      "1563/1563 [==============================] - 36s 23ms/step - loss: 0.8475 - acc: 0.7094 - val_loss: 0.7731 - val_acc: 0.7381\n",
      "Epoch 95/100\n",
      "1563/1563 [==============================] - 36s 23ms/step - loss: 0.8486 - acc: 0.7093 - val_loss: 0.7901 - val_acc: 0.7454\n",
      "Epoch 96/100\n",
      "1563/1563 [==============================] - 36s 23ms/step - loss: 0.8453 - acc: 0.7102 - val_loss: 0.7437 - val_acc: 0.7505\n",
      "Epoch 97/100\n",
      "1563/1563 [==============================] - 36s 23ms/step - loss: 0.8482 - acc: 0.7092 - val_loss: 0.8045 - val_acc: 0.7307\n",
      "Epoch 98/100\n",
      "1563/1563 [==============================] - 36s 23ms/step - loss: 0.8450 - acc: 0.7124 - val_loss: 0.7906 - val_acc: 0.7327\n",
      "Epoch 99/100\n",
      "1563/1563 [==============================] - 36s 23ms/step - loss: 0.8442 - acc: 0.7099 - val_loss: 0.7756 - val_acc: 0.7398\n",
      "Epoch 100/100\n",
      "1563/1563 [==============================] - 36s 23ms/step - loss: 0.8395 - acc: 0.7114 - val_loss: 0.7586 - val_acc: 0.7439\n"
     ]
    }
   ],
   "source": [
    "if not data_augumentation:\n",
    "    print('=== Not using data_augmentation ===')\n",
    "    model.fit(X_train, Y_train,\n",
    "             batch_size=batch_size,\n",
    "             epochs=epochs,\n",
    "             validation_data=(X_test, Y_test),\n",
    "             shuffle=True)\n",
    "else:\n",
    "    print('=== Real-time data_augmentation ===')\n",
    "    data_genarator = ImageDataGenerator(featurewise_center=False,\n",
    "                                       samplewise_center=False,\n",
    "                                       featurewise_std_normalization=False,\n",
    "                                       samplewise_std_normalization=False,\n",
    "                                       zca_epsilon=0.00001,\n",
    "                                       zca_whitening=False,\n",
    "                                       rotation_range=0,\n",
    "                                       width_shift_range=0.1,\n",
    "                                       height_shift_range=0.1,\n",
    "                                       shear_range=0.,\n",
    "                                       zoom_range=0.,\n",
    "                                       channel_shift_range=0.,\n",
    "                                       fill_mode='nearest',\n",
    "                                       cval=0.,\n",
    "                                       horizontal_flip=True,\n",
    "                                       vertical_flip=False,\n",
    "                                       rescale=None,\n",
    "                                       preprocessing_function=None,\n",
    "                                       data_format=None,\n",
    "                                       validation_split=0.0)\n",
    "    \n",
    "    data_genarator.fit(X_train)\n",
    "    generator = data_genarator.flow(X_train, Y_train,\n",
    "                                    batch_size = batch_size)\n",
    "    model.fit_generator(generator,\n",
    "                        steps_per_epoch=len(generator),\n",
    "                        epochs=epochs,\n",
    "                        validation_data=(X_test, Y_test),\n",
    "                        workers=4)"
   ]
  },
  {
   "cell_type": "code",
   "execution_count": 10,
   "metadata": {},
   "outputs": [
    {
     "data": {
      "text/plain": [
       "'\\nif not os.path.isdir(save_dir):\\n    os.makedirs(save_dir)\\nmodel_path = os.path.join(save_dir, model_name)\\nmodel.save(model_path)\\nprint(\\'Saved trained model at \"%s\".\\' % model_path)\\n'"
      ]
     },
     "execution_count": 10,
     "metadata": {},
     "output_type": "execute_result"
    }
   ],
   "source": [
    "\"\"\"\n",
    "if not os.path.isdir(save_dir):\n",
    "    os.makedirs(save_dir)\n",
    "model_path = os.path.join(save_dir, model_name)\n",
    "model.save(model_path)\n",
    "print('Saved trained model at \\\"%s\\\".' % model_path)\n",
    "\"\"\""
   ]
  },
  {
   "cell_type": "code",
   "execution_count": 11,
   "metadata": {},
   "outputs": [
    {
     "name": "stdout",
     "output_type": "stream",
     "text": [
      "10000/10000 [==============================] - 2s 241us/step\n",
      "Test loss: 0.7586063410758972\n",
      "Test accuracy: 0.7439\n"
     ]
    }
   ],
   "source": [
    "# Score trained model.\n",
    "scores = model.evaluate(X_test, Y_test, verbose=1)\n",
    "print('Test loss:', scores[0])\n",
    "print('Test accuracy:', scores[1])"
   ]
  },
  {
   "cell_type": "code",
   "execution_count": 12,
   "metadata": {},
   "outputs": [
    {
     "name": "stdout",
     "output_type": "stream",
     "text": [
      "[0.4208, 0.4798, 0.4689, 0.522, 0.5464, 0.5659, 0.5838, 0.5818, 0.5593, 0.5587, 0.6184, 0.6062, 0.6307, 0.6429, 0.6287, 0.6024, 0.6641, 0.6427, 0.6483, 0.6652, 0.6331, 0.6776, 0.6839, 0.6743, 0.6909, 0.6861, 0.6759, 0.6822, 0.6734, 0.6854, 0.6779, 0.709, 0.6621, 0.6721, 0.6738, 0.711, 0.6977, 0.7067, 0.6964, 0.7011, 0.7239, 0.6924, 0.697, 0.7015, 0.7148, 0.717, 0.7192, 0.7021, 0.728, 0.7153, 0.709, 0.721, 0.7203, 0.7213, 0.724, 0.7244, 0.7232, 0.7318, 0.6983, 0.7277, 0.7206, 0.7238, 0.7274, 0.7238, 0.7212, 0.7251, 0.7437, 0.7241, 0.7306, 0.7363, 0.7394, 0.7173, 0.7155, 0.7298, 0.7351, 0.7239, 0.7391, 0.7282, 0.7237, 0.7262, 0.7423, 0.7353, 0.7526, 0.7419, 0.7234, 0.7264, 0.7453, 0.736, 0.7364, 0.7345, 0.7344, 0.7479, 0.7388, 0.7381, 0.7454, 0.7505, 0.7307, 0.7327, 0.7398, 0.7439]\n"
     ]
    }
   ],
   "source": [
    "print(model.history.history['val_acc'])"
   ]
  },
  {
   "cell_type": "code",
   "execution_count": 14,
   "metadata": {},
   "outputs": [
    {
     "data": {
      "image/png": "[encoded data removed]",
      "text/plain": [
       "<Figure size 432x288 with 1 Axes>"
      ]
     },
     "metadata": {},
     "output_type": "display_data"
    },
    {
     "data": {
      "image/png": "[encoded data removed]",
      "text/plain": [
       "<Figure size 432x288 with 1 Axes>"
      ]
     },
     "metadata": {},
     "output_type": "display_data"
    }
   ],
   "source": [
    "import matplotlib.pyplot as plt\n",
    "\n",
    "# plotting accuracy\n",
    "plt.plot(model.history.history['acc'])\n",
    "plt.plot(model.history.history['val_acc'])\n",
    "plt.title('model accuracy')\n",
    "plt.ylabel('accuracy')\n",
    "plt.xlabel('epoch')\n",
    "plt.legend(['train', 'test'], loc='upper left')\n",
    "plt.show()\n",
    "\n",
    "# plotting occurred loss\n",
    "plt.plot(model.history.history['loss'])\n",
    "plt.plot(model.history.history['val_loss'])\n",
    "plt.title('model loss')\n",
    "plt.ylabel('loss')\n",
    "plt.xlabel('epoch')\n",
    "plt.legend(['train', 'test'], loc='upper left')\n",
    "plt.show()"
   ]
  }
 ],
 "metadata": {
  "kernelspec": {
   "display_name": "Python 3",
   "language": "python",
   "name": "python3"
  },
  "language_info": {
   "codemirror_mode": {
    "name": "ipython",
    "version": 3
   },
   "file_extension": ".py",
   "mimetype": "text/x-python",
   "name": "python",
   "nbconvert_exporter": "python",
   "pygments_lexer": "ipython3",
   "version": "3.6.7"
  }
 },
 "nbformat": 4,
 "nbformat_minor": 2
}
