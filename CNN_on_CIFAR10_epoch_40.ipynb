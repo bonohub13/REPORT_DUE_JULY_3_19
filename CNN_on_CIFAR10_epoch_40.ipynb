{
 "cells": [
  {
   "cell_type": "markdown",
   "metadata": {},
   "source": [
    "### Deep CNN on the CIFAR10 datasets (due: July 3)"
   ]
  },
  {
   "cell_type": "code",
   "execution_count": 1,
   "metadata": {
    "scrolled": true
   },
   "outputs": [
    {
     "name": "stderr",
     "output_type": "stream",
     "text": [
      "Using TensorFlow backend.\n"
     ]
    }
   ],
   "source": [
    "import keras, os\n",
    "from keras.datasets import cifar10\n",
    "from keras.preprocessing.image import ImageDataGenerator\n",
    "from keras.models import Sequential\n",
    "from keras.layers import Dense, Dropout, Activation, Flatten, Conv2D, MaxPooling2D"
   ]
  },
  {
   "cell_type": "code",
   "execution_count": 2,
   "metadata": {},
   "outputs": [],
   "source": [
    "batch_size = 32\n",
    "num_classes = 10\n",
    "epochs = 40\n",
    "data_augumentation = True\n",
    "num_predictions = 20"
   ]
  },
  {
   "cell_type": "code",
   "execution_count": 3,
   "metadata": {},
   "outputs": [],
   "source": [
    "# (X, Y training data), (X, Y testing data)\n",
    "(X_train, Y_train), (X_test, Y_test) = cifar10.load_data()"
   ]
  },
  {
   "cell_type": "code",
   "execution_count": 4,
   "metadata": {},
   "outputs": [
    {
     "name": "stdout",
     "output_type": "stream",
     "text": [
      "(X, Y)_train_shape: (50000, 32, 32, 3) | (50000, 1)\n",
      "(X, Y)_test_shape : (10000, 32, 32, 3) | (10000, 1)\n"
     ]
    }
   ],
   "source": [
    "# (train(test)_samples, ...)\n",
    "print('(X, Y)_train_shape:', X_train.shape, '|', Y_train.shape)\n",
    "print('(X, Y)_test_shape :', X_test.shape, '|', Y_test.shape)"
   ]
  },
  {
   "cell_type": "code",
   "execution_count": 5,
   "metadata": {},
   "outputs": [],
   "source": [
    "# Convert class vectors to binary class matrixes\n",
    "Y_train = keras.utils.to_categorical(Y_train, num_classes)\n",
    "Y_test = keras.utils.to_categorical(Y_test, num_classes)"
   ]
  },
  {
   "cell_type": "code",
   "execution_count": 6,
   "metadata": {},
   "outputs": [
    {
     "name": "stderr",
     "output_type": "stream",
     "text": [
      "WARNING: Logging before flag parsing goes to stderr.\n",
      "W0701 16:28:06.418179 140546610620224 deprecation_wrapper.py:119] From /home/kensuke/.local/lib/python3.6/site-packages/keras/backend/tensorflow_backend.py:74: The name tf.get_default_graph is deprecated. Please use tf.compat.v1.get_default_graph instead.\n",
      "\n",
      "W0701 16:28:06.429764 140546610620224 deprecation_wrapper.py:119] From /home/kensuke/.local/lib/python3.6/site-packages/keras/backend/tensorflow_backend.py:517: The name tf.placeholder is deprecated. Please use tf.compat.v1.placeholder instead.\n",
      "\n",
      "W0701 16:28:06.432991 140546610620224 deprecation_wrapper.py:119] From /home/kensuke/.local/lib/python3.6/site-packages/keras/backend/tensorflow_backend.py:4138: The name tf.random_uniform is deprecated. Please use tf.random.uniform instead.\n",
      "\n",
      "W0701 16:28:06.451249 140546610620224 deprecation_wrapper.py:119] From /home/kensuke/.local/lib/python3.6/site-packages/keras/backend/tensorflow_backend.py:3976: The name tf.nn.max_pool is deprecated. Please use tf.nn.max_pool2d instead.\n",
      "\n",
      "W0701 16:28:06.452841 140546610620224 deprecation_wrapper.py:119] From /home/kensuke/.local/lib/python3.6/site-packages/keras/backend/tensorflow_backend.py:133: The name tf.placeholder_with_default is deprecated. Please use tf.compat.v1.placeholder_with_default instead.\n",
      "\n",
      "W0701 16:28:06.457405 140546610620224 deprecation.py:506] From /home/kensuke/.local/lib/python3.6/site-packages/keras/backend/tensorflow_backend.py:3445: calling dropout (from tensorflow.python.ops.nn_ops) with keep_prob is deprecated and will be removed in a future version.\n",
      "Instructions for updating:\n",
      "Please use `rate` instead of `keep_prob`. Rate should be set to `rate = 1 - keep_prob`.\n"
     ]
    }
   ],
   "source": [
    "model = Sequential()\n",
    "\n",
    "# inner layer (if \"layers\" is 0, then this is the input layer)\n",
    "for layers in range(2):\n",
    "    model.add(Conv2D(32, (3, 3), \n",
    "                     padding='same', \n",
    "                     input_shape=X_train.shape[1:]))\n",
    "    model.add(Activation('relu'))\n",
    "    model.add(Conv2D(32, (3, 3)))\n",
    "    model.add(Activation('relu'))\n",
    "    model.add(MaxPooling2D(pool_size=(2, 2)))\n",
    "    model.add(Dropout(0.25))\n",
    "\n",
    "# output layer\n",
    "model.add(Flatten())\n",
    "model.add(Dense(512))\n",
    "model.add(Activation('relu'))\n",
    "model.add(Dropout(0.5))\n",
    "model.add(Dense(num_classes))\n",
    "model.add(Activation('softmax'))"
   ]
  },
  {
   "cell_type": "code",
   "execution_count": 7,
   "metadata": {},
   "outputs": [
    {
     "name": "stderr",
     "output_type": "stream",
     "text": [
      "W0701 16:28:06.526158 140546610620224 deprecation_wrapper.py:119] From /home/kensuke/.local/lib/python3.6/site-packages/keras/optimizers.py:790: The name tf.train.Optimizer is deprecated. Please use tf.compat.v1.train.Optimizer instead.\n",
      "\n",
      "W0701 16:28:06.530004 140546610620224 deprecation_wrapper.py:119] From /home/kensuke/.local/lib/python3.6/site-packages/keras/backend/tensorflow_backend.py:3295: The name tf.log is deprecated. Please use tf.math.log instead.\n",
      "\n"
     ]
    }
   ],
   "source": [
    "# initiate RMSprop optimizer\n",
    "optimizer = keras.optimizers.rmsprop(lr=0.0001, decay=0.00001)\n",
    "\n",
    "# train the model with RMSprop\n",
    "model.compile(loss='categorical_crossentropy',\n",
    "             optimizer=optimizer,\n",
    "             metrics=['accuracy'])"
   ]
  },
  {
   "cell_type": "code",
   "execution_count": 8,
   "metadata": {},
   "outputs": [],
   "source": [
    "X_train = X_train.astype('float32')\n",
    "X_test = X_test.astype('float32')\n",
    "X_train /= 255\n",
    "X_test /= 255"
   ]
  },
  {
   "cell_type": "code",
   "execution_count": 9,
   "metadata": {
    "scrolled": false
   },
   "outputs": [
    {
     "name": "stdout",
     "output_type": "stream",
     "text": [
      "=== Real-time data_augmentation ===\n"
     ]
    },
    {
     "name": "stderr",
     "output_type": "stream",
     "text": [
      "W0701 16:28:07.014009 140546610620224 deprecation.py:323] From /home/kensuke/.local/lib/python3.6/site-packages/tensorflow/python/ops/math_grad.py:1250: add_dispatch_support.<locals>.wrapper (from tensorflow.python.ops.array_ops) is deprecated and will be removed in a future version.\n",
      "Instructions for updating:\n",
      "Use tf.where in 2.0, which has the same broadcast rule as np.where\n"
     ]
    },
    {
     "name": "stdout",
     "output_type": "stream",
     "text": [
      "Epoch 1/40\n",
      "1563/1563 [==============================] - 37s 24ms/step - loss: 1.9374 - acc: 0.2866 - val_loss: 1.6421 - val_acc: 0.4176\n",
      "Epoch 2/40\n",
      "1563/1563 [==============================] - 36s 23ms/step - loss: 1.6676 - acc: 0.3892 - val_loss: 1.5861 - val_acc: 0.4317\n",
      "Epoch 3/40\n",
      "1563/1563 [==============================] - 36s 23ms/step - loss: 1.5649 - acc: 0.4259 - val_loss: 1.3870 - val_acc: 0.4971\n",
      "Epoch 4/40\n",
      "1563/1563 [==============================] - 35s 23ms/step - loss: 1.4900 - acc: 0.4580 - val_loss: 1.3308 - val_acc: 0.5178\n",
      "Epoch 5/40\n",
      "1563/1563 [==============================] - 35s 23ms/step - loss: 1.4348 - acc: 0.4821 - val_loss: 1.2754 - val_acc: 0.5431\n",
      "Epoch 6/40\n",
      "1563/1563 [==============================] - 35s 23ms/step - loss: 1.3847 - acc: 0.5017 - val_loss: 1.3781 - val_acc: 0.4958\n",
      "Epoch 7/40\n",
      "1563/1563 [==============================] - 35s 23ms/step - loss: 1.3418 - acc: 0.5180 - val_loss: 1.1942 - val_acc: 0.5687\n",
      "Epoch 8/40\n",
      "1563/1563 [==============================] - 36s 23ms/step - loss: 1.3072 - acc: 0.5321 - val_loss: 1.2023 - val_acc: 0.5720\n",
      "Epoch 9/40\n",
      "1563/1563 [==============================] - 36s 23ms/step - loss: 1.2721 - acc: 0.5461 - val_loss: 1.1069 - val_acc: 0.5997\n",
      "Epoch 10/40\n",
      "1563/1563 [==============================] - 36s 23ms/step - loss: 1.2476 - acc: 0.5547 - val_loss: 1.1386 - val_acc: 0.5993\n",
      "Epoch 11/40\n",
      "1563/1563 [==============================] - 36s 23ms/step - loss: 1.2257 - acc: 0.5634 - val_loss: 1.0928 - val_acc: 0.6145\n",
      "Epoch 12/40\n",
      "1563/1563 [==============================] - 36s 23ms/step - loss: 1.1999 - acc: 0.5752 - val_loss: 1.0923 - val_acc: 0.6201\n",
      "Epoch 13/40\n",
      "1563/1563 [==============================] - 36s 23ms/step - loss: 1.1764 - acc: 0.5815 - val_loss: 1.0570 - val_acc: 0.6263\n",
      "Epoch 14/40\n",
      "1563/1563 [==============================] - 36s 23ms/step - loss: 1.1592 - acc: 0.5870 - val_loss: 1.0099 - val_acc: 0.6442\n",
      "Epoch 15/40\n",
      "1563/1563 [==============================] - 36s 23ms/step - loss: 1.1431 - acc: 0.5954 - val_loss: 0.9867 - val_acc: 0.6520\n",
      "Epoch 16/40\n",
      "1563/1563 [==============================] - 36s 23ms/step - loss: 1.1242 - acc: 0.5997 - val_loss: 1.0158 - val_acc: 0.6425\n",
      "Epoch 17/40\n",
      "1563/1563 [==============================] - 36s 23ms/step - loss: 1.1123 - acc: 0.6045 - val_loss: 0.9858 - val_acc: 0.6512\n",
      "Epoch 18/40\n",
      "1563/1563 [==============================] - 36s 23ms/step - loss: 1.0925 - acc: 0.6135 - val_loss: 0.9525 - val_acc: 0.6652\n",
      "Epoch 19/40\n",
      "1563/1563 [==============================] - 36s 23ms/step - loss: 1.0799 - acc: 0.6152 - val_loss: 0.9705 - val_acc: 0.6597\n",
      "Epoch 20/40\n",
      "1563/1563 [==============================] - 36s 23ms/step - loss: 1.0723 - acc: 0.6198 - val_loss: 0.9729 - val_acc: 0.6594\n",
      "Epoch 21/40\n",
      "1563/1563 [==============================] - 36s 23ms/step - loss: 1.0572 - acc: 0.6265 - val_loss: 0.9416 - val_acc: 0.6659\n",
      "Epoch 22/40\n",
      "1563/1563 [==============================] - 36s 23ms/step - loss: 1.0506 - acc: 0.6272 - val_loss: 0.9155 - val_acc: 0.6776\n",
      "Epoch 23/40\n",
      "1563/1563 [==============================] - 36s 23ms/step - loss: 1.0354 - acc: 0.6338 - val_loss: 0.9469 - val_acc: 0.6654\n",
      "Epoch 24/40\n",
      "1563/1563 [==============================] - 36s 23ms/step - loss: 1.0311 - acc: 0.6352 - val_loss: 0.8824 - val_acc: 0.6929\n",
      "Epoch 25/40\n",
      "1563/1563 [==============================] - 36s 23ms/step - loss: 1.0237 - acc: 0.6394 - val_loss: 0.8788 - val_acc: 0.6935\n",
      "Epoch 26/40\n",
      "1563/1563 [==============================] - 36s 23ms/step - loss: 1.0147 - acc: 0.6410 - val_loss: 0.8750 - val_acc: 0.6939\n",
      "Epoch 27/40\n",
      "1563/1563 [==============================] - 36s 23ms/step - loss: 1.0057 - acc: 0.6469 - val_loss: 0.9457 - val_acc: 0.6771\n",
      "Epoch 28/40\n",
      "1563/1563 [==============================] - 36s 23ms/step - loss: 1.0018 - acc: 0.6486 - val_loss: 0.9220 - val_acc: 0.6763\n",
      "Epoch 29/40\n",
      "1563/1563 [==============================] - 36s 23ms/step - loss: 0.9926 - acc: 0.6509 - val_loss: 0.8998 - val_acc: 0.6849\n",
      "Epoch 30/40\n",
      "1563/1563 [==============================] - 36s 23ms/step - loss: 0.9900 - acc: 0.6532 - val_loss: 0.9087 - val_acc: 0.6818\n",
      "Epoch 31/40\n",
      "1563/1563 [==============================] - 36s 23ms/step - loss: 0.9804 - acc: 0.6559 - val_loss: 0.9245 - val_acc: 0.6715\n",
      "Epoch 32/40\n",
      "1563/1563 [==============================] - 36s 23ms/step - loss: 0.9805 - acc: 0.6549 - val_loss: 0.8279 - val_acc: 0.7148\n",
      "Epoch 33/40\n",
      "1563/1563 [==============================] - 36s 23ms/step - loss: 0.9754 - acc: 0.6584 - val_loss: 0.8694 - val_acc: 0.7004\n",
      "Epoch 34/40\n",
      "1563/1563 [==============================] - 36s 23ms/step - loss: 0.9699 - acc: 0.6608 - val_loss: 0.9094 - val_acc: 0.6901\n",
      "Epoch 35/40\n",
      "1563/1563 [==============================] - 36s 23ms/step - loss: 0.9626 - acc: 0.6628 - val_loss: 0.8826 - val_acc: 0.7007\n",
      "Epoch 36/40\n",
      "1563/1563 [==============================] - 36s 23ms/step - loss: 0.9579 - acc: 0.6661 - val_loss: 0.8639 - val_acc: 0.6976\n",
      "Epoch 37/40\n",
      "1563/1563 [==============================] - 36s 23ms/step - loss: 0.9550 - acc: 0.6656 - val_loss: 0.8568 - val_acc: 0.7068\n",
      "Epoch 38/40\n",
      "1563/1563 [==============================] - 36s 23ms/step - loss: 0.9529 - acc: 0.6661 - val_loss: 0.8409 - val_acc: 0.7120\n",
      "Epoch 39/40\n",
      "1563/1563 [==============================] - 36s 23ms/step - loss: 0.9490 - acc: 0.6680 - val_loss: 0.8338 - val_acc: 0.7141\n",
      "Epoch 40/40\n",
      "1563/1563 [==============================] - 36s 23ms/step - loss: 0.9412 - acc: 0.6710 - val_loss: 0.8374 - val_acc: 0.7096\n"
     ]
    }
   ],
   "source": [
    "if not data_augumentation:\n",
    "    print('=== Not using data_augmentation ===')\n",
    "    model.fit(X_train, Y_train,\n",
    "             batch_size=batch_size,\n",
    "             epochs=epochs,\n",
    "             validation_data=(X_test, Y_test),\n",
    "             shuffle=True)\n",
    "else:\n",
    "    print('=== Real-time data_augmentation ===')\n",
    "    data_genarator = ImageDataGenerator(featurewise_center=False,\n",
    "                                       samplewise_center=False,\n",
    "                                       featurewise_std_normalization=False,\n",
    "                                       samplewise_std_normalization=False,\n",
    "                                       zca_epsilon=0.00001,\n",
    "                                       zca_whitening=False,\n",
    "                                       rotation_range=0,\n",
    "                                       width_shift_range=0.1,\n",
    "                                       height_shift_range=0.1,\n",
    "                                       shear_range=0.,\n",
    "                                       zoom_range=0.,\n",
    "                                       channel_shift_range=0.,\n",
    "                                       fill_mode='nearest',\n",
    "                                       cval=0.,\n",
    "                                       horizontal_flip=True,\n",
    "                                       vertical_flip=False,\n",
    "                                       rescale=None,\n",
    "                                       preprocessing_function=None,\n",
    "                                       data_format=None,\n",
    "                                       validation_split=0.0)\n",
    "    \n",
    "    data_genarator.fit(X_train)\n",
    "    generator = data_genarator.flow(X_train, Y_train,\n",
    "                                    batch_size = batch_size)\n",
    "    model.fit_generator(generator,\n",
    "                        steps_per_epoch=len(generator),\n",
    "                        epochs=epochs,\n",
    "                        validation_data=(X_test, Y_test),\n",
    "                        workers=4)"
   ]
  },
  {
   "cell_type": "code",
   "execution_count": 10,
   "metadata": {},
   "outputs": [
    {
     "data": {
      "text/plain": [
       "'\\nif not os.path.isdir(save_dir):\\n    os.makedirs(save_dir)\\nmodel_path = os.path.join(save_dir, model_name)\\nmodel.save(model_path)\\nprint(\\'Saved trained model at \"%s\".\\' % model_path)\\n'"
      ]
     },
     "execution_count": 10,
     "metadata": {},
     "output_type": "execute_result"
    }
   ],
   "source": [
    "\"\"\"\n",
    "if not os.path.isdir(save_dir):\n",
    "    os.makedirs(save_dir)\n",
    "model_path = os.path.join(save_dir, model_name)\n",
    "model.save(model_path)\n",
    "print('Saved trained model at \\\"%s\\\".' % model_path)\n",
    "\"\"\""
   ]
  },
  {
   "cell_type": "code",
   "execution_count": 11,
   "metadata": {},
   "outputs": [
    {
     "name": "stdout",
     "output_type": "stream",
     "text": [
      "10000/10000 [==============================] - 5s 484us/step\n",
      "Test loss: 0.837416032409668\n",
      "Test accuracy: 0.7096\n"
     ]
    }
   ],
   "source": [
    "# Score trained model.\n",
    "scores = model.evaluate(X_test, Y_test, verbose=1)\n",
    "print('Test loss:', scores[0])\n",
    "print('Test accuracy:', scores[1])"
   ]
  },
  {
   "cell_type": "code",
   "execution_count": 12,
   "metadata": {},
   "outputs": [
    {
     "name": "stdout",
     "output_type": "stream",
     "text": [
      "[0.4176, 0.4317, 0.4971, 0.5178, 0.5431, 0.4958, 0.5687, 0.572, 0.5997, 0.5993, 0.6145, 0.6201, 0.6263, 0.6442, 0.652, 0.6425, 0.6512, 0.6652, 0.6597, 0.6594, 0.6659, 0.6776, 0.6654, 0.6929, 0.6935, 0.6939, 0.6771, 0.6763, 0.6849, 0.6818, 0.6715, 0.7148, 0.7004, 0.6901, 0.7007, 0.6976, 0.7068, 0.712, 0.7141, 0.7096]\n"
     ]
    }
   ],
   "source": [
    "print(model.history.history['val_acc'])"
   ]
  },
  {
   "cell_type": "code",
   "execution_count": 15,
   "metadata": {},
   "outputs": [
    {
     "data": {
      "image/png": "[encoded data removed]",
      "text/plain": [
       "<Figure size 432x288 with 1 Axes>"
      ]
     },
     "metadata": {},
     "output_type": "display_data"
    },
    {
     "data": {
      "image/png": "[encoded data removed]",
      "text/plain": [
       "<Figure size 432x288 with 1 Axes>"
      ]
     },
     "metadata": {},
     "output_type": "display_data"
    }
   ],
   "source": [
    "import matplotlib.pyplot as plt\n",
    "\n",
    "# plotting accuracy\n",
    "plt.plot(model.history.history['acc'])\n",
    "plt.plot(model.history.history['val_acc'])\n",
    "plt.title('model accuracy')\n",
    "plt.ylabel('accuracy')\n",
    "plt.xlabel('epoch')\n",
    "plt.legend(['train', 'test'], loc='upper left')\n",
    "plt.show()\n",
    "\n",
    "# plotting occurred loss\n",
    "plt.plot(model.history.history['loss'])\n",
    "plt.plot(model.history.history['val_loss'])\n",
    "plt.title('model loss')\n",
    "plt.ylabel('loss')\n",
    "plt.xlabel('epoch')\n",
    "plt.legend(['train', 'test'], loc='upper left')\n",
    "plt.show()"
   ]
  }
 ],
 "metadata": {
  "kernelspec": {
   "display_name": "Python 3",
   "language": "python",
   "name": "python3"
  },
  "language_info": {
   "codemirror_mode": {
    "name": "ipython",
    "version": 3
   },
   "file_extension": ".py",
   "mimetype": "text/x-python",
   "name": "python",
   "nbconvert_exporter": "python",
   "pygments_lexer": "ipython3",
   "version": "3.6.7"
  }
 },
 "nbformat": 4,
 "nbformat_minor": 2
}
